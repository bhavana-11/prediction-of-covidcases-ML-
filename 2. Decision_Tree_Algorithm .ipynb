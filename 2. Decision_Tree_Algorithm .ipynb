{
 "cells": [
  {
   "cell_type": "code",
   "execution_count": 1,
   "metadata": {},
   "outputs": [],
   "source": [
    "import pandas as pd\n",
    "import matplotlib.pyplot as plt\n",
    "import numpy as np\n",
    "from sklearn.tree import DecisionTreeRegressor\n",
    "from sklearn.model_selection import train_test_split\n",
    "from sklearn.metrics import r2_score"
   ]
  },
  {
   "cell_type": "code",
   "execution_count": 2,
   "metadata": {},
   "outputs": [
    {
     "data": {
      "text/html": [
       "<div>\n",
       "<style scoped>\n",
       "    .dataframe tbody tr th:only-of-type {\n",
       "        vertical-align: middle;\n",
       "    }\n",
       "\n",
       "    .dataframe tbody tr th {\n",
       "        vertical-align: top;\n",
       "    }\n",
       "\n",
       "    .dataframe thead th {\n",
       "        text-align: right;\n",
       "    }\n",
       "</style>\n",
       "<table border=\"1\" class=\"dataframe\">\n",
       "  <thead>\n",
       "    <tr style=\"text-align: right;\">\n",
       "      <th></th>\n",
       "      <th>Date</th>\n",
       "      <th>Counting_from_August</th>\n",
       "      <th>Confirmed Cases</th>\n",
       "      <th>Recovered Cases</th>\n",
       "      <th>Deceased Cases</th>\n",
       "    </tr>\n",
       "  </thead>\n",
       "  <tbody>\n",
       "    <tr>\n",
       "      <th>0</th>\n",
       "      <td>2020-8-1</td>\n",
       "      <td>1</td>\n",
       "      <td>1752171</td>\n",
       "      <td>1146913</td>\n",
       "      <td>37408</td>\n",
       "    </tr>\n",
       "    <tr>\n",
       "      <th>1</th>\n",
       "      <td>2020-8-2</td>\n",
       "      <td>2</td>\n",
       "      <td>1804843</td>\n",
       "      <td>1187268</td>\n",
       "      <td>38168</td>\n",
       "    </tr>\n",
       "    <tr>\n",
       "      <th>2</th>\n",
       "      <td>2020-8-3</td>\n",
       "      <td>3</td>\n",
       "      <td>1855331</td>\n",
       "      <td>1230338</td>\n",
       "      <td>38974</td>\n",
       "    </tr>\n",
       "    <tr>\n",
       "      <th>3</th>\n",
       "      <td>2020-8-4</td>\n",
       "      <td>4</td>\n",
       "      <td>1906613</td>\n",
       "      <td>1281558</td>\n",
       "      <td>39823</td>\n",
       "    </tr>\n",
       "    <tr>\n",
       "      <th>4</th>\n",
       "      <td>2020-8-5</td>\n",
       "      <td>5</td>\n",
       "      <td>1963239</td>\n",
       "      <td>1327141</td>\n",
       "      <td>40742</td>\n",
       "    </tr>\n",
       "    <tr>\n",
       "      <th>5</th>\n",
       "      <td>2020-8-6</td>\n",
       "      <td>6</td>\n",
       "      <td>2025409</td>\n",
       "      <td>1377282</td>\n",
       "      <td>41641</td>\n",
       "    </tr>\n",
       "    <tr>\n",
       "      <th>6</th>\n",
       "      <td>2020-8-7</td>\n",
       "      <td>7</td>\n",
       "      <td>2086864</td>\n",
       "      <td>1427669</td>\n",
       "      <td>42577</td>\n",
       "    </tr>\n",
       "    <tr>\n",
       "      <th>7</th>\n",
       "      <td>2020-8-8</td>\n",
       "      <td>8</td>\n",
       "      <td>2152020</td>\n",
       "      <td>1479804</td>\n",
       "      <td>43452</td>\n",
       "    </tr>\n",
       "    <tr>\n",
       "      <th>8</th>\n",
       "      <td>2020-8-9</td>\n",
       "      <td>9</td>\n",
       "      <td>2214137</td>\n",
       "      <td>1534278</td>\n",
       "      <td>44465</td>\n",
       "    </tr>\n",
       "    <tr>\n",
       "      <th>9</th>\n",
       "      <td>2020-8-10</td>\n",
       "      <td>10</td>\n",
       "      <td>2267153</td>\n",
       "      <td>1581640</td>\n",
       "      <td>45352</td>\n",
       "    </tr>\n",
       "    <tr>\n",
       "      <th>10</th>\n",
       "      <td>2020-8-11</td>\n",
       "      <td>11</td>\n",
       "      <td>2328405</td>\n",
       "      <td>1638101</td>\n",
       "      <td>46187</td>\n",
       "    </tr>\n",
       "    <tr>\n",
       "      <th>11</th>\n",
       "      <td>2020-8-12</td>\n",
       "      <td>12</td>\n",
       "      <td>2395471</td>\n",
       "      <td>1695860</td>\n",
       "      <td>47137</td>\n",
       "    </tr>\n",
       "    <tr>\n",
       "      <th>12</th>\n",
       "      <td>2020-8-13</td>\n",
       "      <td>13</td>\n",
       "      <td>2459612</td>\n",
       "      <td>1750636</td>\n",
       "      <td>48143</td>\n",
       "    </tr>\n",
       "    <tr>\n",
       "      <th>13</th>\n",
       "      <td>2020-8-14</td>\n",
       "      <td>14</td>\n",
       "      <td>2525222</td>\n",
       "      <td>1807556</td>\n",
       "      <td>49132</td>\n",
       "    </tr>\n",
       "    <tr>\n",
       "      <th>14</th>\n",
       "      <td>2020-8-15</td>\n",
       "      <td>15</td>\n",
       "      <td>2589208</td>\n",
       "      <td>1860672</td>\n",
       "      <td>50084</td>\n",
       "    </tr>\n",
       "    <tr>\n",
       "      <th>15</th>\n",
       "      <td>2020-8-16</td>\n",
       "      <td>16</td>\n",
       "      <td>2647304</td>\n",
       "      <td>1918076</td>\n",
       "      <td>51036</td>\n",
       "    </tr>\n",
       "    <tr>\n",
       "      <th>16</th>\n",
       "      <td>2020-8-17</td>\n",
       "      <td>17</td>\n",
       "      <td>2701602</td>\n",
       "      <td>1976248</td>\n",
       "      <td>51916</td>\n",
       "    </tr>\n",
       "    <tr>\n",
       "      <th>17</th>\n",
       "      <td>2020-8-18</td>\n",
       "      <td>18</td>\n",
       "      <td>2766626</td>\n",
       "      <td>2036703</td>\n",
       "      <td>53015</td>\n",
       "    </tr>\n",
       "    <tr>\n",
       "      <th>18</th>\n",
       "      <td>2020-8-19</td>\n",
       "      <td>19</td>\n",
       "      <td>2835822</td>\n",
       "      <td>2096068</td>\n",
       "      <td>53994</td>\n",
       "    </tr>\n",
       "    <tr>\n",
       "      <th>19</th>\n",
       "      <td>2020-8-20</td>\n",
       "      <td>20</td>\n",
       "      <td>2904340</td>\n",
       "      <td>2157941</td>\n",
       "      <td>54975</td>\n",
       "    </tr>\n",
       "    <tr>\n",
       "      <th>20</th>\n",
       "      <td>2020-8-21</td>\n",
       "      <td>21</td>\n",
       "      <td>2973369</td>\n",
       "      <td>2220799</td>\n",
       "      <td>55928</td>\n",
       "    </tr>\n",
       "    <tr>\n",
       "      <th>21</th>\n",
       "      <td>2020-8-22</td>\n",
       "      <td>22</td>\n",
       "      <td>3043436</td>\n",
       "      <td>2279900</td>\n",
       "      <td>56846</td>\n",
       "    </tr>\n",
       "    <tr>\n",
       "      <th>22</th>\n",
       "      <td>2020-8-23</td>\n",
       "      <td>23</td>\n",
       "      <td>3105185</td>\n",
       "      <td>2336796</td>\n",
       "      <td>57692</td>\n",
       "    </tr>\n",
       "    <tr>\n",
       "      <th>23</th>\n",
       "      <td>2020-8-24</td>\n",
       "      <td>24</td>\n",
       "      <td>3164881</td>\n",
       "      <td>2403101</td>\n",
       "      <td>58546</td>\n",
       "    </tr>\n",
       "    <tr>\n",
       "      <th>24</th>\n",
       "      <td>2020-8-25</td>\n",
       "      <td>25</td>\n",
       "      <td>3231754</td>\n",
       "      <td>2467252</td>\n",
       "      <td>59612</td>\n",
       "    </tr>\n",
       "    <tr>\n",
       "      <th>25</th>\n",
       "      <td>2020-8-26</td>\n",
       "      <td>26</td>\n",
       "      <td>3307749</td>\n",
       "      <td>2523443</td>\n",
       "      <td>60629</td>\n",
       "    </tr>\n",
       "    <tr>\n",
       "      <th>26</th>\n",
       "      <td>2020-8-27</td>\n",
       "      <td>27</td>\n",
       "      <td>3384576</td>\n",
       "      <td>2583063</td>\n",
       "      <td>61695</td>\n",
       "    </tr>\n",
       "    <tr>\n",
       "      <th>27</th>\n",
       "      <td>2020-8-28</td>\n",
       "      <td>28</td>\n",
       "      <td>3461233</td>\n",
       "      <td>2647538</td>\n",
       "      <td>62714</td>\n",
       "    </tr>\n",
       "    <tr>\n",
       "      <th>28</th>\n",
       "      <td>2020-8-29</td>\n",
       "      <td>29</td>\n",
       "      <td>3539712</td>\n",
       "      <td>2712520</td>\n",
       "      <td>63657</td>\n",
       "    </tr>\n",
       "    <tr>\n",
       "      <th>29</th>\n",
       "      <td>2020-8-30</td>\n",
       "      <td>30</td>\n",
       "      <td>3619173</td>\n",
       "      <td>2772942</td>\n",
       "      <td>64617</td>\n",
       "    </tr>\n",
       "    <tr>\n",
       "      <th>30</th>\n",
       "      <td>2020-8-31</td>\n",
       "      <td>31</td>\n",
       "      <td>3687939</td>\n",
       "      <td>2837377</td>\n",
       "      <td>65434</td>\n",
       "    </tr>\n",
       "    <tr>\n",
       "      <th>31</th>\n",
       "      <td>2020-9-1</td>\n",
       "      <td>32</td>\n",
       "      <td>3766108</td>\n",
       "      <td>2899522</td>\n",
       "      <td>66460</td>\n",
       "    </tr>\n",
       "    <tr>\n",
       "      <th>32</th>\n",
       "      <td>2020-9-2</td>\n",
       "      <td>33</td>\n",
       "      <td>3848968</td>\n",
       "      <td>2967396</td>\n",
       "      <td>67486</td>\n",
       "    </tr>\n",
       "    <tr>\n",
       "      <th>33</th>\n",
       "      <td>2020-9-3</td>\n",
       "      <td>34</td>\n",
       "      <td>3933124</td>\n",
       "      <td>3034887</td>\n",
       "      <td>68569</td>\n",
       "    </tr>\n",
       "    <tr>\n",
       "      <th>34</th>\n",
       "      <td>2020-9-4</td>\n",
       "      <td>35</td>\n",
       "      <td>4020239</td>\n",
       "      <td>3104512</td>\n",
       "      <td>69635</td>\n",
       "    </tr>\n",
       "    <tr>\n",
       "      <th>35</th>\n",
       "      <td>2020-9-5</td>\n",
       "      <td>36</td>\n",
       "      <td>4110839</td>\n",
       "      <td>3177673</td>\n",
       "      <td>70679</td>\n",
       "    </tr>\n",
       "    <tr>\n",
       "      <th>36</th>\n",
       "      <td>2020-9-6</td>\n",
       "      <td>37</td>\n",
       "      <td>4202562</td>\n",
       "      <td>3247297</td>\n",
       "      <td>71687</td>\n",
       "    </tr>\n",
       "    <tr>\n",
       "      <th>37</th>\n",
       "      <td>2020-9-7</td>\n",
       "      <td>38</td>\n",
       "      <td>4277584</td>\n",
       "      <td>3321420</td>\n",
       "      <td>72816</td>\n",
       "    </tr>\n",
       "    <tr>\n",
       "      <th>38</th>\n",
       "      <td>2020-9-8</td>\n",
       "      <td>39</td>\n",
       "      <td>4367436</td>\n",
       "      <td>3396027</td>\n",
       "      <td>73923</td>\n",
       "    </tr>\n",
       "    <tr>\n",
       "      <th>39</th>\n",
       "      <td>2020-9-9</td>\n",
       "      <td>40</td>\n",
       "      <td>4462965</td>\n",
       "      <td>3469084</td>\n",
       "      <td>75091</td>\n",
       "    </tr>\n",
       "  </tbody>\n",
       "</table>\n",
       "</div>"
      ],
      "text/plain": [
       "          Date   Counting_from_August   Confirmed Cases   Recovered Cases  \\\n",
       "0     2020-8-1                      1           1752171           1146913   \n",
       "1     2020-8-2                      2           1804843           1187268   \n",
       "2     2020-8-3                      3           1855331           1230338   \n",
       "3     2020-8-4                      4           1906613           1281558   \n",
       "4     2020-8-5                      5           1963239           1327141   \n",
       "5     2020-8-6                      6           2025409           1377282   \n",
       "6     2020-8-7                      7           2086864           1427669   \n",
       "7     2020-8-8                      8           2152020           1479804   \n",
       "8     2020-8-9                      9           2214137           1534278   \n",
       "9    2020-8-10                     10           2267153           1581640   \n",
       "10   2020-8-11                     11           2328405           1638101   \n",
       "11   2020-8-12                     12           2395471           1695860   \n",
       "12   2020-8-13                     13           2459612           1750636   \n",
       "13   2020-8-14                     14           2525222           1807556   \n",
       "14   2020-8-15                     15           2589208           1860672   \n",
       "15   2020-8-16                     16           2647304           1918076   \n",
       "16   2020-8-17                     17           2701602           1976248   \n",
       "17   2020-8-18                     18           2766626           2036703   \n",
       "18   2020-8-19                     19           2835822           2096068   \n",
       "19   2020-8-20                     20           2904340           2157941   \n",
       "20   2020-8-21                     21           2973369           2220799   \n",
       "21   2020-8-22                     22           3043436           2279900   \n",
       "22   2020-8-23                     23           3105185           2336796   \n",
       "23   2020-8-24                     24           3164881           2403101   \n",
       "24   2020-8-25                     25           3231754           2467252   \n",
       "25   2020-8-26                     26           3307749           2523443   \n",
       "26   2020-8-27                     27           3384576           2583063   \n",
       "27   2020-8-28                     28           3461233           2647538   \n",
       "28   2020-8-29                     29           3539712           2712520   \n",
       "29   2020-8-30                     30           3619173           2772942   \n",
       "30   2020-8-31                     31           3687939           2837377   \n",
       "31    2020-9-1                     32           3766108           2899522   \n",
       "32    2020-9-2                     33           3848968           2967396   \n",
       "33    2020-9-3                     34           3933124           3034887   \n",
       "34    2020-9-4                     35           4020239           3104512   \n",
       "35    2020-9-5                     36           4110839           3177673   \n",
       "36    2020-9-6                     37           4202562           3247297   \n",
       "37    2020-9-7                     38           4277584           3321420   \n",
       "38    2020-9-8                     39           4367436           3396027   \n",
       "39    2020-9-9                     40           4462965           3469084   \n",
       "\n",
       "     Deceased Cases  \n",
       "0             37408  \n",
       "1             38168  \n",
       "2             38974  \n",
       "3             39823  \n",
       "4             40742  \n",
       "5             41641  \n",
       "6             42577  \n",
       "7             43452  \n",
       "8             44465  \n",
       "9             45352  \n",
       "10            46187  \n",
       "11            47137  \n",
       "12            48143  \n",
       "13            49132  \n",
       "14            50084  \n",
       "15            51036  \n",
       "16            51916  \n",
       "17            53015  \n",
       "18            53994  \n",
       "19            54975  \n",
       "20            55928  \n",
       "21            56846  \n",
       "22            57692  \n",
       "23            58546  \n",
       "24            59612  \n",
       "25            60629  \n",
       "26            61695  \n",
       "27            62714  \n",
       "28            63657  \n",
       "29            64617  \n",
       "30            65434  \n",
       "31            66460  \n",
       "32            67486  \n",
       "33            68569  \n",
       "34            69635  \n",
       "35            70679  \n",
       "36            71687  \n",
       "37            72816  \n",
       "38            73923  \n",
       "39            75091  "
      ]
     },
     "execution_count": 2,
     "metadata": {},
     "output_type": "execute_result"
    }
   ],
   "source": [
    "data= pd.read_csv(\"Covid19_India11.csv\")\n",
    "data"
   ]
  },
  {
   "cell_type": "code",
   "execution_count": 3,
   "metadata": {},
   "outputs": [],
   "source": [
    "real_x= data.iloc[:,1].values\n",
    "real_y= data.iloc[:,2].values\n",
    "real_x= real_x.reshape(-1,1)\n",
    "real_y= real_y.reshape(-1,1)"
   ]
  },
  {
   "cell_type": "code",
   "execution_count": 4,
   "metadata": {},
   "outputs": [],
   "source": [
    "training_x,testing_x,training_y,testing_y = train_test_split(real_x,real_y,test_size=0.2,random_state=0)"
   ]
  },
  {
   "cell_type": "code",
   "execution_count": 5,
   "metadata": {},
   "outputs": [
    {
     "data": {
      "text/plain": [
       "DecisionTreeRegressor(random_state=0)"
      ]
     },
     "execution_count": 5,
     "metadata": {},
     "output_type": "execute_result"
    }
   ],
   "source": [
    "de= DecisionTreeRegressor(random_state=0)\n",
    "de.fit(training_x,training_y)"
   ]
  },
  {
   "cell_type": "code",
   "execution_count": 6,
   "metadata": {},
   "outputs": [],
   "source": [
    "y_predict= de.predict(testing_x)"
   ]
  },
  {
   "cell_type": "code",
   "execution_count": 7,
   "metadata": {},
   "outputs": [
    {
     "data": {
      "text/plain": [
       "array([[3105185],\n",
       "       [2973369],\n",
       "       [3307749],\n",
       "       [1963239],\n",
       "       [2328405],\n",
       "       [2647304],\n",
       "       [3539712],\n",
       "       [2395471]], dtype=int64)"
      ]
     },
     "execution_count": 7,
     "metadata": {},
     "output_type": "execute_result"
    }
   ],
   "source": [
    "testing_y"
   ]
  },
  {
   "cell_type": "code",
   "execution_count": 8,
   "metadata": {},
   "outputs": [
    {
     "data": {
      "text/plain": [
       "array([3043436., 2904340., 3231754., 1906613., 2267153., 2589208.,\n",
       "       3461233., 2459612.])"
      ]
     },
     "execution_count": 8,
     "metadata": {},
     "output_type": "execute_result"
    }
   ],
   "source": [
    "y_predict"
   ]
  },
  {
   "cell_type": "code",
   "execution_count": 9,
   "metadata": {},
   "outputs": [
    {
     "data": {
      "image/png": "[encoded data removed]",
      "text/plain": [
       "<Figure size 432x288 with 1 Axes>"
      ]
     },
     "metadata": {
      "needs_background": "light"
     },
     "output_type": "display_data"
    }
   ],
   "source": [
    "x_grid= np.arange(min(training_x),max(training_x),0.01)\n",
    "x_grid= x_grid.reshape((len(x_grid),1))\n",
    "plt.scatter(training_x,training_y, color=\"red\")\n",
    "plt.plot(x_grid,de.predict(x_grid),color=\"blue\")\n",
    "plt.title(\"India's Confirmed Cases\")\n",
    "plt.xlabel(\"Date from 1 August\")\n",
    "plt.ylabel(\"Number of confirmed cases\")\n",
    "plt.show()         "
   ]
  },
  {
   "cell_type": "code",
   "execution_count": 10,
   "metadata": {},
   "outputs": [
    {
     "data": {
      "image/png": "[encoded data removed]",
      "text/plain": [
       "<Figure size 432x288 with 1 Axes>"
      ]
     },
     "metadata": {
      "needs_background": "light"
     },
     "output_type": "display_data"
    }
   ],
   "source": [
    "x_grid= np.arange(min(testing_x),max(testing_x),0.01)\n",
    "x_grid= x_grid.reshape((len(x_grid),1))\n",
    "plt.scatter(testing_x,testing_y, color=\"red\")\n",
    "plt.plot(x_grid,de.predict(x_grid),color=\"blue\")\n",
    "plt.title(\"India's Confirmed Cases\")\n",
    "plt.xlabel(\"Date from 1 August\")\n",
    "plt.ylabel(\"Number of confirmed cases\")\n",
    "plt.show()         "
   ]
  },
  {
   "cell_type": "code",
   "execution_count": 11,
   "metadata": {},
   "outputs": [
    {
     "data": {
      "text/plain": [
       "98.28231132440011"
      ]
     },
     "execution_count": 11,
     "metadata": {},
     "output_type": "execute_result"
    }
   ],
   "source": [
    "r2_score(testing_y,y_predict)*100 #Check Accuracy"
   ]
  },
  {
   "cell_type": "code",
   "execution_count": 12,
   "metadata": {},
   "outputs": [],
   "source": [
    "real_x= data.iloc[:,1].values\n",
    "real_y= data.iloc[:,3].values\n",
    "real_x= real_x.reshape(-1,1)\n",
    "real_y= real_y.reshape(-1,1)"
   ]
  },
  {
   "cell_type": "code",
   "execution_count": 13,
   "metadata": {},
   "outputs": [],
   "source": [
    "training_x,testing_x,training_y,testing_y = train_test_split(real_x,real_y,test_size=0.2,random_state=0)"
   ]
  },
  {
   "cell_type": "code",
   "execution_count": 14,
   "metadata": {},
   "outputs": [
    {
     "data": {
      "text/plain": [
       "DecisionTreeRegressor(random_state=0)"
      ]
     },
     "execution_count": 14,
     "metadata": {},
     "output_type": "execute_result"
    }
   ],
   "source": [
    "de= DecisionTreeRegressor(random_state=0)\n",
    "de.fit(training_x,training_y)"
   ]
  },
  {
   "cell_type": "code",
   "execution_count": 15,
   "metadata": {},
   "outputs": [],
   "source": [
    "y_predict= de.predict(testing_x)"
   ]
  },
  {
   "cell_type": "code",
   "execution_count": 16,
   "metadata": {},
   "outputs": [
    {
     "data": {
      "text/plain": [
       "array([[2336796],\n",
       "       [2220799],\n",
       "       [2523443],\n",
       "       [1327141],\n",
       "       [1638101],\n",
       "       [1918076],\n",
       "       [2712520],\n",
       "       [1695860]], dtype=int64)"
      ]
     },
     "execution_count": 16,
     "metadata": {},
     "output_type": "execute_result"
    }
   ],
   "source": [
    "testing_y"
   ]
  },
  {
   "cell_type": "code",
   "execution_count": 17,
   "metadata": {},
   "outputs": [
    {
     "data": {
      "text/plain": [
       "array([2279900., 2157941., 2467252., 1281558., 1581640., 1860672.,\n",
       "       2647538., 1750636.])"
      ]
     },
     "execution_count": 17,
     "metadata": {},
     "output_type": "execute_result"
    }
   ],
   "source": [
    "y_predict"
   ]
  },
  {
   "cell_type": "code",
   "execution_count": 18,
   "metadata": {},
   "outputs": [
    {
     "data": {
      "text/plain": [
       "array([2837377.])"
      ]
     },
     "execution_count": 18,
     "metadata": {},
     "output_type": "execute_result"
    }
   ],
   "source": [
    "de.predict([[31]])"
   ]
  },
  {
   "cell_type": "code",
   "execution_count": 19,
   "metadata": {},
   "outputs": [
    {
     "data": {
      "image/png": "[encoded data removed]",
      "text/plain": [
       "<Figure size 432x288 with 1 Axes>"
      ]
     },
     "metadata": {
      "needs_background": "light"
     },
     "output_type": "display_data"
    }
   ],
   "source": [
    "x_grid= np.arange(min(training_x),max(training_x),0.01)\n",
    "x_grid= x_grid.reshape((len(x_grid),1))\n",
    "plt.scatter(training_x,training_y, color=\"red\")\n",
    "plt.plot(x_grid,de.predict(x_grid),color=\"blue\")\n",
    "plt.title(\"India's Recovered Cases\")\n",
    "plt.xlabel(\"Date from 1 August\")\n",
    "plt.ylabel(\"Number of Recovered cases\")\n",
    "plt.show()   "
   ]
  },
  {
   "cell_type": "code",
   "execution_count": 20,
   "metadata": {},
   "outputs": [
    {
     "data": {
      "image/png": "[encoded data removed]",
      "text/plain": [
       "<Figure size 432x288 with 1 Axes>"
      ]
     },
     "metadata": {
      "needs_background": "light"
     },
     "output_type": "display_data"
    }
   ],
   "source": [
    "x_grid= np.arange(min(testing_x),max(testing_x),0.01)\n",
    "x_grid= x_grid.reshape((len(x_grid),1))\n",
    "plt.scatter(testing_x,testing_y, color=\"red\")\n",
    "plt.plot(x_grid,de.predict(x_grid),color=\"blue\")\n",
    "plt.title(\"India's Recovered Cases\")\n",
    "plt.xlabel(\"Date from 1 August\")\n",
    "plt.ylabel(\"Number of Recovered cases\")\n",
    "plt.show()      "
   ]
  },
  {
   "cell_type": "code",
   "execution_count": 21,
   "metadata": {},
   "outputs": [
    {
     "data": {
      "text/plain": [
       "98.37645247732858"
      ]
     },
     "execution_count": 21,
     "metadata": {},
     "output_type": "execute_result"
    }
   ],
   "source": [
    "r2_score(testing_y,y_predict)*100 #Check Accuracy"
   ]
  },
  {
   "cell_type": "code",
   "execution_count": 22,
   "metadata": {},
   "outputs": [],
   "source": [
    "real_x= data.iloc[:,1].values\n",
    "real_y= data.iloc[:,4].values\n",
    "real_x= real_x.reshape(-1,1)\n",
    "real_y= real_y.reshape(-1,1)"
   ]
  },
  {
   "cell_type": "code",
   "execution_count": 23,
   "metadata": {},
   "outputs": [],
   "source": [
    "training_x,testing_x,training_y,testing_y = train_test_split(real_x,real_y,test_size=0.2,random_state=0)"
   ]
  },
  {
   "cell_type": "code",
   "execution_count": 24,
   "metadata": {},
   "outputs": [
    {
     "data": {
      "text/plain": [
       "DecisionTreeRegressor(random_state=0)"
      ]
     },
     "execution_count": 24,
     "metadata": {},
     "output_type": "execute_result"
    }
   ],
   "source": [
    "de= DecisionTreeRegressor(random_state=0)\n",
    "de.fit(training_x,training_y)"
   ]
  },
  {
   "cell_type": "code",
   "execution_count": 25,
   "metadata": {},
   "outputs": [],
   "source": [
    "y_predict= de.predict(testing_x)"
   ]
  },
  {
   "cell_type": "code",
   "execution_count": 26,
   "metadata": {},
   "outputs": [
    {
     "data": {
      "text/plain": [
       "array([[57692],\n",
       "       [55928],\n",
       "       [60629],\n",
       "       [40742],\n",
       "       [46187],\n",
       "       [51036],\n",
       "       [63657],\n",
       "       [47137]], dtype=int64)"
      ]
     },
     "execution_count": 26,
     "metadata": {},
     "output_type": "execute_result"
    }
   ],
   "source": [
    "testing_y"
   ]
  },
  {
   "cell_type": "code",
   "execution_count": 27,
   "metadata": {},
   "outputs": [
    {
     "data": {
      "text/plain": [
       "array([56846., 54975., 59612., 39823., 45352., 50084., 62714., 48143.])"
      ]
     },
     "execution_count": 27,
     "metadata": {},
     "output_type": "execute_result"
    }
   ],
   "source": [
    "y_predict"
   ]
  },
  {
   "cell_type": "code",
   "execution_count": 28,
   "metadata": {},
   "outputs": [
    {
     "data": {
      "image/png": "[encoded data removed]",
      "text/plain": [
       "<Figure size 432x288 with 1 Axes>"
      ]
     },
     "metadata": {
      "needs_background": "light"
     },
     "output_type": "display_data"
    }
   ],
   "source": [
    "x_grid= np.arange(min(training_x),max(training_x),0.01)\n",
    "x_grid= x_grid.reshape((len(x_grid),1))\n",
    "plt.scatter(training_x,training_y, color=\"red\")\n",
    "plt.plot(x_grid,de.predict(x_grid),color=\"blue\")\n",
    "plt.title(\"India's Deceased Cases\")\n",
    "plt.xlabel(\"Date from 1 August\")\n",
    "plt.ylabel(\"Number of Deceased cases\")\n",
    "plt.show()    "
   ]
  },
  {
   "cell_type": "code",
   "execution_count": 29,
   "metadata": {},
   "outputs": [
    {
     "data": {
      "image/png": "[encoded data removed]",
      "text/plain": [
       "<Figure size 432x288 with 1 Axes>"
      ]
     },
     "metadata": {
      "needs_background": "light"
     },
     "output_type": "display_data"
    }
   ],
   "source": [
    "x_grid= np.arange(min(testing_x),max(testing_x),0.01)\n",
    "x_grid= x_grid.reshape((len(x_grid),1))\n",
    "plt.scatter(testing_x,testing_y, color=\"red\")\n",
    "plt.plot(x_grid,de.predict(x_grid),color=\"blue\")\n",
    "plt.title(\"India's Deceased Cases\")\n",
    "plt.xlabel(\"Date from 1 August\")\n",
    "plt.ylabel(\"Number of Deceased cases\")\n",
    "plt.show()     "
   ]
  },
  {
   "cell_type": "code",
   "execution_count": 30,
   "metadata": {},
   "outputs": [
    {
     "data": {
      "text/plain": [
       "98.39696802574358"
      ]
     },
     "execution_count": 30,
     "metadata": {},
     "output_type": "execute_result"
    }
   ],
   "source": [
    "r2_score(testing_y,y_predict)*100 #Check Accuracy"
   ]
  },
  {
   "cell_type": "code",
   "execution_count": null,
   "metadata": {},
   "outputs": [],
   "source": []
  }
 ],
 "metadata": {
  "kernelspec": {
   "display_name": "Python 3 (ipykernel)",
   "language": "python",
   "name": "python3"
  },
  "language_info": {
   "codemirror_mode": {
    "name": "ipython",
    "version": 3
   },
   "file_extension": ".py",
   "mimetype": "text/x-python",
   "name": "python",
   "nbconvert_exporter": "python",
   "pygments_lexer": "ipython3",
   "version": "3.8.11"
  }
 },
 "nbformat": 4,
 "nbformat_minor": 2
}
